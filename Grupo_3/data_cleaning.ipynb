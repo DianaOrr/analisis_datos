{
 "cells": [
  {
   "cell_type": "markdown",
   "metadata": {},
   "source": [
    "# Data Cleaning Using Machine Learning"
   ]
  },
  {
   "cell_type": "code",
   "execution_count": 129,
   "metadata": {},
   "outputs": [],
   "source": [
    "# Imports\n",
    "import pandas as pd\n",
    "import numpy as np\n",
    "import matplotlib.pyplot as plt\n",
    "import tensorflow as tf\n",
    "from tensorflow.keras.models import Sequential\n",
    "from tensorflow.keras.layers import LSTM, RepeatVector, TimeDistributed, Dense"
   ]
  },
  {
   "cell_type": "markdown",
   "metadata": {},
   "source": [
    "Mainly 3 things to do :\n",
    "* Process data to be able to manipulate it (convert \"object\" to \"float)\n",
    "* Remove missing data\n",
    "* Detect wrong data"
   ]
  },
  {
   "cell_type": "markdown",
   "metadata": {},
   "source": [
    "## Loading data"
   ]
  },
  {
   "cell_type": "markdown",
   "metadata": {},
   "source": [
    "Just for one file."
   ]
  },
  {
   "cell_type": "code",
   "execution_count": 103,
   "metadata": {},
   "outputs": [
    {
     "data": {
      "text/html": [
       "<div>\n",
       "<style scoped>\n",
       "    .dataframe tbody tr th:only-of-type {\n",
       "        vertical-align: middle;\n",
       "    }\n",
       "\n",
       "    .dataframe tbody tr th {\n",
       "        vertical-align: top;\n",
       "    }\n",
       "\n",
       "    .dataframe thead th {\n",
       "        text-align: right;\n",
       "    }\n",
       "</style>\n",
       "<table border=\"1\" class=\"dataframe\">\n",
       "  <thead>\n",
       "    <tr style=\"text-align: right;\">\n",
       "      <th></th>\n",
       "      <th>Hora</th>\n",
       "      <th>Fecha</th>\n",
       "      <th>Pais</th>\n",
       "      <th>Unidad</th>\n",
       "      <th>Tipo Oferta</th>\n",
       "      <th>Energía Compra/Venta</th>\n",
       "      <th>Precio Compra/Venta</th>\n",
       "      <th>Ofertada (O)/Casada (C)</th>\n",
       "    </tr>\n",
       "  </thead>\n",
       "  <tbody>\n",
       "    <tr>\n",
       "      <th>0</th>\n",
       "      <td>1.0</td>\n",
       "      <td>01/02/2024</td>\n",
       "      <td>MI</td>\n",
       "      <td>TOTRM01</td>\n",
       "      <td>C</td>\n",
       "      <td>496,0</td>\n",
       "      <td>1.500,00</td>\n",
       "      <td>O</td>\n",
       "    </tr>\n",
       "    <tr>\n",
       "      <th>1</th>\n",
       "      <td>1.0</td>\n",
       "      <td>01/02/2024</td>\n",
       "      <td>MI</td>\n",
       "      <td>TOTRM02</td>\n",
       "      <td>C</td>\n",
       "      <td>138,0</td>\n",
       "      <td>1.500,00</td>\n",
       "      <td>O</td>\n",
       "    </tr>\n",
       "    <tr>\n",
       "      <th>2</th>\n",
       "      <td>1.0</td>\n",
       "      <td>01/02/2024</td>\n",
       "      <td>MI</td>\n",
       "      <td>TOTRM03</td>\n",
       "      <td>C</td>\n",
       "      <td>56,0</td>\n",
       "      <td>1.500,00</td>\n",
       "      <td>O</td>\n",
       "    </tr>\n",
       "    <tr>\n",
       "      <th>3</th>\n",
       "      <td>1.0</td>\n",
       "      <td>01/02/2024</td>\n",
       "      <td>MI</td>\n",
       "      <td>BPRM01</td>\n",
       "      <td>C</td>\n",
       "      <td>31,4</td>\n",
       "      <td>1.002,00</td>\n",
       "      <td>O</td>\n",
       "    </tr>\n",
       "    <tr>\n",
       "      <th>4</th>\n",
       "      <td>1.0</td>\n",
       "      <td>01/02/2024</td>\n",
       "      <td>MI</td>\n",
       "      <td>EUCDR01</td>\n",
       "      <td>C</td>\n",
       "      <td>9,3</td>\n",
       "      <td>1.002,00</td>\n",
       "      <td>O</td>\n",
       "    </tr>\n",
       "  </tbody>\n",
       "</table>\n",
       "</div>"
      ],
      "text/plain": [
       "   Hora       Fecha Pais   Unidad Tipo Oferta Energía Compra/Venta  \\\n",
       "0   1.0  01/02/2024   MI  TOTRM01           C                496,0   \n",
       "1   1.0  01/02/2024   MI  TOTRM02           C                138,0   \n",
       "2   1.0  01/02/2024   MI  TOTRM03           C                 56,0   \n",
       "3   1.0  01/02/2024   MI   BPRM01           C                 31,4   \n",
       "4   1.0  01/02/2024   MI  EUCDR01           C                  9,3   \n",
       "\n",
       "  Precio Compra/Venta Ofertada (O)/Casada (C)  \n",
       "0            1.500,00                       O  \n",
       "1            1.500,00                       O  \n",
       "2            1.500,00                       O  \n",
       "3            1.002,00                       O  \n",
       "4            1.002,00                       O  "
      ]
     },
     "execution_count": 103,
     "metadata": {},
     "output_type": "execute_result"
    }
   ],
   "source": [
    "df = pd.read_csv(\"data/curva_pbc_uof_20240201.1\", delimiter=\";\", encoding=\"latin1\", header=1)\n",
    "del df[\"Unnamed: 8\"]\n",
    "df.head()"
   ]
  },
  {
   "cell_type": "code",
   "execution_count": 104,
   "metadata": {},
   "outputs": [
    {
     "data": {
      "text/plain": [
       "Hora                       float64\n",
       "Fecha                       object\n",
       "Pais                        object\n",
       "Unidad                      object\n",
       "Tipo Oferta                 object\n",
       "Energía Compra/Venta        object\n",
       "Precio Compra/Venta         object\n",
       "Ofertada (O)/Casada (C)     object\n",
       "dtype: object"
      ]
     },
     "execution_count": 104,
     "metadata": {},
     "output_type": "execute_result"
    }
   ],
   "source": [
    "df.dtypes"
   ]
  },
  {
   "cell_type": "markdown",
   "metadata": {},
   "source": [
    "## Removing missing data"
   ]
  },
  {
   "cell_type": "code",
   "execution_count": 105,
   "metadata": {},
   "outputs": [],
   "source": [
    "df = df.fillna({\"Energía Compra/Venta\" : \"0\", \"Precio Compra/Venta\" : \"0\"})"
   ]
  },
  {
   "cell_type": "markdown",
   "metadata": {},
   "source": [
    "## Processing data"
   ]
  },
  {
   "cell_type": "markdown",
   "metadata": {},
   "source": [
    "### Hora, Pais, Unidad, Tipo Oferta, Ofertada/Casada"
   ]
  },
  {
   "cell_type": "markdown",
   "metadata": {},
   "source": [
    "Nothing to do"
   ]
  },
  {
   "cell_type": "markdown",
   "metadata": {},
   "source": [
    "### Fecha"
   ]
  },
  {
   "cell_type": "markdown",
   "metadata": {},
   "source": [
    "Convert object into datetimes"
   ]
  },
  {
   "cell_type": "code",
   "execution_count": 106,
   "metadata": {},
   "outputs": [
    {
     "data": {
      "text/plain": [
       "'01/02/2024'"
      ]
     },
     "execution_count": 106,
     "metadata": {},
     "output_type": "execute_result"
    }
   ],
   "source": [
    "df.Fecha.iloc[0]"
   ]
  },
  {
   "cell_type": "code",
   "execution_count": 107,
   "metadata": {},
   "outputs": [
    {
     "data": {
      "text/plain": [
       "Ellipsis"
      ]
     },
     "execution_count": 107,
     "metadata": {},
     "output_type": "execute_result"
    }
   ],
   "source": [
    "..."
   ]
  },
  {
   "cell_type": "markdown",
   "metadata": {},
   "source": [
    "### Energia Compra/Venta, Precio Compra/Venta"
   ]
  },
  {
   "cell_type": "markdown",
   "metadata": {},
   "source": [
    "Convert from string to float replacing :\n",
    "* Thousand delimiter \".\" to nothing\n",
    "* Decimal delimiter \",\" to \".\""
   ]
  },
  {
   "cell_type": "code",
   "execution_count": 108,
   "metadata": {},
   "outputs": [
    {
     "name": "stdout",
     "output_type": "stream",
     "text": [
      "1500.0\n"
     ]
    }
   ],
   "source": [
    "a = \"1.500,00\"\n",
    "a = a.replace(\".\", \"\")\n",
    "a = a.replace(\",\", \".\")\n",
    "a = float(a)\n",
    "print(a)"
   ]
  },
  {
   "cell_type": "code",
   "execution_count": 109,
   "metadata": {},
   "outputs": [],
   "source": [
    "for e in df[\"Energía Compra/Venta\"]:\n",
    "    if type(e)!=str:\n",
    "        print(e)"
   ]
  },
  {
   "cell_type": "code",
   "execution_count": 110,
   "metadata": {},
   "outputs": [
    {
     "data": {
      "text/plain": [
       "Hora                       float64\n",
       "Fecha                       object\n",
       "Pais                        object\n",
       "Unidad                      object\n",
       "Tipo Oferta                 object\n",
       "Energía Compra/Venta       float64\n",
       "Precio Compra/Venta        float64\n",
       "Ofertada (O)/Casada (C)     object\n",
       "dtype: object"
      ]
     },
     "execution_count": 110,
     "metadata": {},
     "output_type": "execute_result"
    }
   ],
   "source": [
    "df[\"Energía Compra/Venta\"] = df[\"Energía Compra/Venta\"].apply(lambda x: float(x.replace(\".\", \"\").replace(\",\", \".\")))\n",
    "df[\"Precio Compra/Venta\"] = df[\"Precio Compra/Venta\"].apply(lambda x: float(x.replace(\".\", \"\").replace(\",\", \".\")))\n",
    "df.dtypes"
   ]
  },
  {
   "cell_type": "markdown",
   "metadata": {},
   "source": [
    "## Detecting wrong data"
   ]
  },
  {
   "cell_type": "markdown",
   "metadata": {},
   "source": [
    "I will use a method based on machine learning.\n",
    "\n",
    "The columns that might contain wrong data are :\n",
    "* Energia Compra/Venta\n",
    "* Precio Compra/Venta"
   ]
  },
  {
   "cell_type": "code",
   "execution_count": 111,
   "metadata": {},
   "outputs": [],
   "source": [
    "# Be careful to execute that after the processing\n",
    "series = df['Energía Compra/Venta']\n",
    "\n",
    "# Normalization\n",
    "series_scaled = tf.keras.utils.normalize(series.values.reshape(-1, 1)).flatten()\n",
    "\n",
    "# Create sequences for training\n",
    "def create_sequences(data, sequence_length):\n",
    "    sequences = []\n",
    "    for i in range(len(data) - sequence_length):\n",
    "        sequences.append(data[i:i + sequence_length])\n",
    "    return np.array(sequences)\n",
    "\n",
    "sequence_length = 30\n",
    "sequences = create_sequences(series_scaled, sequence_length)"
   ]
  },
  {
   "cell_type": "code",
   "execution_count": 112,
   "metadata": {},
   "outputs": [
    {
     "name": "stdout",
     "output_type": "stream",
     "text": [
      "WARNING:tensorflow:From c:\\miniconda\\lib\\site-packages\\keras\\src\\layers\\rnn\\lstm.py:148: The name tf.executing_eagerly_outside_functions is deprecated. Please use tf.compat.v1.executing_eagerly_outside_functions instead.\n",
      "\n",
      "WARNING:tensorflow:From c:\\miniconda\\lib\\site-packages\\keras\\src\\optimizers\\__init__.py:309: The name tf.train.Optimizer is deprecated. Please use tf.compat.v1.train.Optimizer instead.\n",
      "\n",
      "Model: \"sequential\"\n",
      "_________________________________________________________________\n",
      " Layer (type)                Output Shape              Param #   \n",
      "=================================================================\n",
      " lstm (LSTM)                 (None, 128)               66560     \n",
      "                                                                 \n",
      " repeat_vector (RepeatVecto  (None, 30, 128)           0         \n",
      " r)                                                              \n",
      "                                                                 \n",
      " lstm_1 (LSTM)               (None, 30, 128)           131584    \n",
      "                                                                 \n",
      " time_distributed (TimeDist  (None, 30, 1)             129       \n",
      " ributed)                                                        \n",
      "                                                                 \n",
      "=================================================================\n",
      "Total params: 198273 (774.50 KB)\n",
      "Trainable params: 198273 (774.50 KB)\n",
      "Non-trainable params: 0 (0.00 Byte)\n",
      "_________________________________________________________________\n"
     ]
    }
   ],
   "source": [
    "# Build the model\n",
    "model = Sequential([\n",
    "    LSTM(128, activation='relu', input_shape=(sequence_length, 1)),\n",
    "    RepeatVector(sequence_length),\n",
    "    LSTM(128, activation='relu', return_sequences=True),\n",
    "    TimeDistributed(Dense(1))\n",
    "])\n",
    "\n",
    "model.compile(optimizer='adam', loss='mse')\n",
    "model.summary()\n"
   ]
  },
  {
   "cell_type": "code",
   "execution_count": 114,
   "metadata": {},
   "outputs": [
    {
     "name": "stdout",
     "output_type": "stream",
     "text": [
      "2343/2343 [==============================] - 54s 23ms/step - loss: 2.1006e-05 - val_loss: 7.3312e-07\n"
     ]
    },
    {
     "data": {
      "text/plain": [
       "<keras.src.callbacks.History at 0x1c366a2a770>"
      ]
     },
     "execution_count": 114,
     "metadata": {},
     "output_type": "execute_result"
    }
   ],
   "source": [
    "model.fit(sequences, sequences, epochs=1, batch_size=32, validation_split=0.2)"
   ]
  },
  {
   "cell_type": "code",
   "execution_count": 125,
   "metadata": {},
   "outputs": [
    {
     "name": "stdout",
     "output_type": "stream",
     "text": [
      "2929/2929 [==============================] - 23s 8ms/step\n"
     ]
    }
   ],
   "source": [
    "# Calculate reconstruction errors\n",
    "reconstructed_sequences = model.predict(sequences)\n",
    "reconstructed_sequences = reconstructed_sequences.squeeze(axis=-1)  # Remove the singleton dimension\n",
    "mse = np.mean(np.power(sequences - reconstructed_sequences, 2), axis=1)  # Calculate mean along axis 1\n",
    "\n",
    "# Ensure the lengths of mse and series are aligned\n",
    "series = df['Energía Compra/Venta'].values[:len(mse)]\n",
    "\n",
    "# Define a custom condition for anomaly detection\n",
    "threshold = np.percentile(mse, 95)\n",
    "anomalies = (mse > threshold) | ((series == 0) & (series != 0))\n",
    "\n",
    "# Mark anomalies in the data\n",
    "anomaly_indices = np.where(anomalies)[0]\n",
    "df['anomaly'] = 0\n",
    "df.loc[df.index[anomaly_indices], 'anomaly'] = 1"
   ]
  },
  {
   "cell_type": "code",
   "execution_count": 128,
   "metadata": {},
   "outputs": [
    {
     "data": {
      "image/png": "[encoded data removed]",
      "text/plain": [
       "<Figure size 1500x600 with 1 Axes>"
      ]
     },
     "metadata": {},
     "output_type": "display_data"
    }
   ],
   "source": [
    "# Ensure the lengths of df.index and series are aligned\n",
    "if len(df.index) != len(series):\n",
    "    df = df[:len(series)]\n",
    "\n",
    "plt.figure(figsize=(15, 6))\n",
    "plt.plot(df.index, series, label='Value')\n",
    "\n",
    "# Check if there are anomalies before plotting them\n",
    "if df['anomaly'].any():\n",
    "    plt.plot(df.index[df['anomaly'] == 1], series[df['anomaly'] == 1], 'ro', label='Anomalies')\n",
    "\n",
    "plt.legend()\n",
    "plt.show()"
   ]
  }
 ],
 "metadata": {
  "kernelspec": {
   "display_name": "base",
   "language": "python",
   "name": "python3"
  },
  "language_info": {
   "codemirror_mode": {
    "name": "ipython",
    "version": 3
   },
   "file_extension": ".py",
   "mimetype": "text/x-python",
   "name": "python",
   "nbconvert_exporter": "python",
   "pygments_lexer": "ipython3",
   "version": "3.10.4"
  }
 },
 "nbformat": 4,
 "nbformat_minor": 2
}
