{
 "cells": [
  {
   "cell_type": "markdown",
   "metadata": {},
   "source": [
    "Limpiar Y Normalizar Datos"
   ]
  },
  {
   "cell_type": "code",
   "execution_count": null,
   "metadata": {},
   "outputs": [],
   "source": [
    "import requests\n",
    "import re\n",
    "import matplotlib.pyplot as plt\n",
    "import numpy as np\n",
    "import pandas as pd\n",
    "import zipfile\n",
    "import os\n",
    "import glob\n",
    "from datetime import datetime, timedelta\n",
    "from bs4 import BeautifulSoup\n",
    "from io import StringIO\n",
    "# Definir una función para cargar y procesar cada archivo individualmente\n",
    "def cargar_y_procesar_archivo(file_path):\n",
    "    # Cargar el archivo CSV\n",
    "    df = pd.read_csv(file_path, dtype={'Hora': 'int32','Fecha': 'str','Pais': 'category','Unidad': 'category','Tipo_Oferta': 'category','Energía_Compra_Venta': 'str','Precio_Compra_Venta': 'str','Ofertada_Casada': 'float32'})\n",
    "    # Inicializar un DataFrame vacio para almacenar los datos combinados\n",
    "    data_frame_combinado = pd.DataFrame() \n",
    "    # Renombrar las columnas\n",
    "    data_frame_combinado.columns = ['Hora', 'Fecha', 'Pais', 'Unidad', 'Tipo_Oferta', 'Energía_Compra_Venta','Precio_Compra_Venta', 'Ofertada_Casada', 'Unnamed']\n",
    "    # Eliminar la columna 'Unnamed'\n",
    "    data_frame_combinado.drop(columns=['Unnamed'], inplace=True)\n",
    "    # Modificar tipos de datos:\n",
    "    #1 'Hora' modificar la hora para números enteros.\n",
    "    data_frame_combinado['Hora'] = data_frame_combinado['Hora'].astype(int)\n",
    "    #2 'Fecha' modificar las fechas actuales de los archivos.csv \n",
    "    data_frame_combinado['Fecha'] = pd.to_datetime(data_frame_combinado['Fecha'], format='%d/%m/%Y')\n",
    "    #3 'Energía_Compra_Venta' modificar los valores flotantes despues de reemplazar comas por puntos.\n",
    "    data_frame_combinado['Energía_Compra_Venta'] = data_frame_combinado['Energía_Compra_Venta'].str.replace(',', '.').astype(float)\n",
    "    #4 'Precio_Compra_Venta' modificar los valores flotantes despues de reemplazar comas por puntos.\n",
    "    data_frame_combinado['Precio_Compra_Venta'] = data_frame_combinado['Precio_Compra_Venta'].str.replace('.', '').str.replace(',', '.').astype(float)\n",
    "    # A continuación,se eliminaran los valores límites que nos estaban distorsionando la señal de precios del OMIE.\n",
    "    # Creación de un data_frame_filtrado, Nuestra condición de operación de datos es entre un intervalo de precios de [>-4€/Mwh,<1500€/Mwh] \n",
    "    data_frame_filtrado = data_frame_combinado[(data_frame_combinado['Precio_Compra_Venta'] >= -4) & (data_frame_combinado['Precio_Compra_Venta'] <= 1500)]\n",
    "    #verificación rápida de los valores filtrados procesado correctamente.\n",
    "    print(data_frame_combinado.head())\n",
    "return def\n",
    "\n",
    "\n",
    "\n"
   ]
  },
  {
   "cell_type": "markdown",
   "metadata": {},
   "source": [
    "Codigo Optimizado con ChunkSize /Independiente"
   ]
  },
  {
   "cell_type": "code",
   "execution_count": null,
   "metadata": {},
   "outputs": [],
   "source": [
    "# Código Chunksize se utiliza si los archivos CSV son muy grandes, podemos leerlos en trozos (chunks) y procesarlos por partes.\n",
    "import pandas as pd\n",
    "import glob\n",
    "import os\n",
    "import matplotlib.pyplot as plt\n",
    "import time\n",
    "from dask import dataframe as dd\n",
    "# Definir una función para cargar y procesar cada archivo individualmente\n",
    "def cargar_y_procesar_archivo(file_path):\n",
    "    \"\"\"Carga y procesa un archivo CSV especificado.\"\"\"\n",
    "    # Leer archivo CSV en chunks\n",
    "    chunk_list = []\n",
    "    for chunk in pd.read_csv(file_path, dtype={'Hora': 'int32','Fecha': 'str','Pais': 'category','Unidad': 'category','Tipo_Oferta': 'category','Energía_Compra_Venta': 'str','Precio_Compra_Venta': 'str','Ofertada_Casada': 'float32'}, chunksize=100000):\n",
    "        # Procesar cada chunk\n",
    "        chunk['Fecha'] = pd.to_datetime(chunk['Fecha'], format='%d/%m/%Y')\n",
    "        chunk['Energía_Compra_Venta'] = chunk['Energía_Compra_Venta'].str.replace(',', '.').astype('float32')\n",
    "        chunk['Precio_Compra_Venta'] = chunk['Precio_Compra_Venta'].str.replace('.', '').str.replace(',', '.').astype('float32')\n",
    "        # Filtrar valores límites de Precio_Compra_Venta\n",
    "        chunk = chunk[(chunk['Precio_Compra_Venta'] >= -4) & (chunk['Precio_Compra_Venta'] <= 1500)]\n",
    "        chunk_list.append(chunk)\n",
    "    \n",
    "    return pd.concat(chunk_list, ignore_index=True)\n"
   ]
  }
 ],
 "metadata": {
  "language_info": {
   "name": "python"
  }
 },
 "nbformat": 4,
 "nbformat_minor": 2
}
