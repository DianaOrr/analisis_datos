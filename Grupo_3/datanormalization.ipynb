{
 "cells": [
  {
   "cell_type": "markdown",
   "metadata": {},
   "source": [
    "Limpiar Y Normalizar Datos"
   ]
  },
  {
   "cell_type": "code",
   "execution_count": null,
   "metadata": {},
   "outputs": [],
   "source": [
    "import requests\n",
    "import re\n",
    "import matplotlib.pyplot as plt\n",
    "import numpy as np\n",
    "import pandas as pd\n",
    "import zipfile\n",
    "import os\n",
    "from datetime import datetime, timedelta\n",
    "from bs4 import BeautifulSoup\n",
    "from io import StringIO\n",
    "# Inicializar un DataFrame vacío para almacenar los datos combinados\n",
    "data_frame_combinado = pd.DataFrame() \n",
    "# Renombrar las columnas\n",
    "data_frame_combinado.columns = ['Hora', 'Fecha', 'Pais', 'Unidad', 'Tipo_Oferta', 'Energia_Compra_Venta','Precio_Compra_Venta', 'Ofertada_Casada', 'Unnamed']\n",
    "# Eliminar la columna 'Unnamed'\n",
    "data_frame_combinado.drop(columns=['Unnamed'], inplace=True)\n",
    "# Modificar tipos de datos:\n",
    "#1 'Hora' modificar la hora para números enteros.\n",
    "data_frame_combinado['Hora'] = data_frame_combinado['Hora'].astype(int)\n",
    "#2 'Fecha' modificar las fechas actuales de los archivos.csv \n",
    "data_frame_combinado['Fecha'] = pd.to_datetime(data_frame_combinado['Fecha'], format='%d/%m/%Y')\n",
    "#3 'Energia_Compra_Venta' modificarlo \n",
    "\n"
   ]
  }
 ],
 "metadata": {
  "language_info": {
   "name": "python"
  }
 },
 "nbformat": 4,
 "nbformat_minor": 2
}
