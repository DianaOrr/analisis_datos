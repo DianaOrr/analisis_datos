{
 "cells": [
  {
   "cell_type": "markdown",
   "metadata": {},
   "source": [
    "# Grupo 3 del proyecto de data mining - Analisis de datos"
   ]
  },
  {
   "cell_type": "markdown",
   "metadata": {},
   "source": [
    "***Authors : H. Kanza, N.Matte, J. Escrihuela, A. Ortiz, ...***"
   ]
  },
  {
   "cell_type": "code",
   "execution_count": 1,
   "metadata": {},
   "outputs": [
    {
     "name": "stderr",
     "output_type": "stream",
     "text": [
      "c:\\miniconda\\lib\\site-packages\\requests\\__init__.py:102: RequestsDependencyWarning: urllib3 (1.26.8) or chardet (5.2.0)/charset_normalizer (2.0.4) doesn't match a supported version!\n",
      "  warnings.warn(\"urllib3 ({}) or chardet ({})/charset_normalizer ({}) doesn't match a supported \"\n"
     ]
    }
   ],
   "source": [
    "# Imports\n",
    "import requests\n",
    "import re\n",
    "import matplotlib.pyplot as plt\n",
    "import numpy as np\n",
    "import pandas as pd\n",
    "import zipfile\n",
    "import os"
   ]
  },
  {
   "cell_type": "markdown",
   "metadata": {},
   "source": [
    "# I. Import data from the website"
   ]
  },
  {
   "cell_type": "markdown",
   "metadata": {},
   "source": [
    "First, I download the HTML page where I can find the URLs of every monthly file I want to analyse."
   ]
  },
  {
   "cell_type": "code",
   "execution_count": null,
   "metadata": {},
   "outputs": [
    {
     "name": "stdout",
     "output_type": "stream",
     "text": [
      "File saved at data/webpage_omie.html\n"
     ]
    }
   ],
   "source": [
    "# URL of the file I want to download\n",
    "url_csv = \"https://www.omie.es/en/file-access-list?parents%5B0%5D=/&parents%5B1%5D=Day-ahead%20Market&parents%5B2%5D=3.%20Curves&dir=Monthly%20files%20with%20aggregate%20supply%20and%20demand%20curves%20of%20Day-ahead%20market%20including%20bid%20units&realdir=curva_pbc_uof\"\n",
    "\n",
    "# Path where I want to save the file\n",
    "path = \"data/webpage_omie.html\"\n",
    "\n",
    "# GET request to try to access URL data\n",
    "response = requests.get(url_csv)\n",
    "\n",
    "# I make sure the request succeeded\n",
    "if response.status_code == 200:\n",
    "    # ... so I write the data in a local file, in the specified path\n",
    "    with open(path, \"wb\") as f:\n",
    "        f.write(response.content)\n",
    "    print(f\"File saved at {path}\")\n",
    "else:\n",
    "    print(f\"Request error code: {response.status_code}\")\n"
   ]
  },
  {
   "cell_type": "markdown",
   "metadata": {},
   "source": [
    "Now, with the HTML, I need to extract the list containing the URLs of all curves files."
   ]
  },
  {
   "cell_type": "code",
   "execution_count": 3,
   "metadata": {},
   "outputs": [
    {
     "name": "stdout",
     "output_type": "stream",
     "text": [
      "Correspondances trouvées:\n",
      "76 occurences found on the webpage.\n"
     ]
    }
   ],
   "source": [
    "# I read the HTML file\n",
    "with open(path, \"r\", encoding=\"utf-8\") as file:\n",
    "    html_content = file.read()\n",
    "\n",
    "    # Pattern with characters before and after\n",
    "    pattern = r\".*curva_pbc_uof_*.\"\n",
    "\n",
    "    # Find occurrences that match the pattern\n",
    "    matches = re.findall(pattern, html_content)\n",
    "\n",
    "    if matches:\n",
    "        print(len(matches), \"occurences found on the webpage.\")\n",
    "    else:\n",
    "        print(\"No occurence found.\")"
   ]
  },
  {
   "cell_type": "markdown",
   "metadata": {},
   "source": [
    "Now I need to process the matches to extract only the URLs I need."
   ]
  },
  {
   "cell_type": "code",
   "execution_count": null,
   "metadata": {},
   "outputs": [],
   "source": [
    "..."
   ]
  },
  {
   "cell_type": "markdown",
   "metadata": {},
   "source": [
    "Finally, I can download every zip file."
   ]
  },
  {
   "cell_type": "code",
   "execution_count": 28,
   "metadata": {},
   "outputs": [
    {
     "name": "stdout",
     "output_type": "stream",
     "text": [
      "Téléchargement terminé : first_file.zip\n"
     ]
    }
   ],
   "source": [
    "# I download the first file, just for a test\n",
    "\n",
    "url_csv = \"https://www.omie.es/en/file-download?parents%5B0%5D=curva_pbc_uof&filename=curva_pbc_uof_202402.zip\" \n",
    "\n",
    "# Name of the file I will save on my computer\n",
    "file_name = \"first_file.zip\"\n",
    "\n",
    "# GET request to access data of zip files\n",
    "response = requests.get(url_csv)\n",
    "\n",
    "if response.status_code == 200:\n",
    "    # If the request succeeds, I save the zip file at the specified path\n",
    "    with open(file_name, \"wb\") as f:\n",
    "        for chunk in response.iter_content(chunk_size=8192):\n",
    "            f.write(chunk)\n",
    "    print(f\"Download complete : {file_name}\")\n",
    "else:\n",
    "    print(f\"Error while downloading: {response.status_code}\")"
   ]
  },
  {
   "cell_type": "markdown",
   "metadata": {},
   "source": [
    "Extracting first file from the zip"
   ]
  },
  {
   "cell_type": "code",
   "execution_count": null,
   "metadata": {},
   "outputs": [],
   "source": [
    "# Extract the first file from the zip archive\n",
    "with zipfile.ZipFile(file_name, 'r') as zip_ref:\n",
    "    # List all files in the zip archive\n",
    "    zip_contents = zip_ref.namelist()\n",
    "    print(f\"Files in the zip archive: {zip_contents}\")\n",
    "    \n",
    "    # Extract the first file\n",
    "    first_file_name = zip_contents[0]\n",
    "    zip_ref.extract(first_file_name, \"data\")\n",
    "    print(f\"Extracted {first_file_name} to 'data' directory\")\n",
    "\n",
    "# Load the extracted file into a DataFrame if it's a CSV\n",
    "extracted_file_path = os.path.join(\"data\", first_file_name)\n",
    "if extracted_file_path.endswith('.csv'):\n",
    "    df = pd.read_csv(extracted_file_path)\n",
    "    print(df.head())\n",
    "else:\n",
    "    print(f\"The extracted file is not a CSV: {extracted_file_path}\")\n",
    "\n"
   ]
  }
 ],
 "metadata": {
  "kernelspec": {
   "display_name": "base",
   "language": "python",
   "name": "python3"
  },
  "language_info": {
   "codemirror_mode": {
    "name": "ipython",
    "version": 3
   },
   "file_extension": ".py",
   "mimetype": "text/x-python",
   "name": "python",
   "nbconvert_exporter": "python",
   "pygments_lexer": "ipython3",
   "version": "3.10.4"
  }
 },
 "nbformat": 4,
 "nbformat_minor": 2
}
