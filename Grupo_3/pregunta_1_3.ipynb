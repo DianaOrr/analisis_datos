{
 "cells": [
  {
   "cell_type": "markdown",
   "metadata": {},
   "source": [
    "# Grupo 3 del proyecto de data mining - Analisis de datos"
   ]
  },
  {
   "cell_type": "markdown",
   "metadata": {},
   "source": [
    "***Authors : N.Matte, ...***"
   ]
  },
  {
   "cell_type": "code",
   "execution_count": 4,
   "metadata": {},
   "outputs": [],
   "source": [
    "# Imports\n",
    "import requests\n",
    "import re\n",
    "import matplotlib.pyplot as plt\n",
    "import numpy as np\n",
    "import pandas as pd"
   ]
  },
  {
   "cell_type": "markdown",
   "metadata": {},
   "source": [
    "# I. Import data from the website"
   ]
  },
  {
   "cell_type": "markdown",
   "metadata": {},
   "source": [
    "First, I download the HTML page where I can find the URLs of every monthly file I want to analyse."
   ]
  },
  {
   "cell_type": "code",
   "execution_count": 2,
   "metadata": {},
   "outputs": [
    {
     "name": "stdout",
     "output_type": "stream",
     "text": [
      "File saved at data/webpage_omie.html\n"
     ]
    }
   ],
   "source": [
    "# URL of the file I want to download\n",
    "url_csv = \"https://www.omie.es/en/file-access-list?parents%5B0%5D=/&parents%5B1%5D=Day-ahead%20Market&parents%5B2%5D=3.%20Curves&dir=Monthly%20files%20with%20aggregate%20supply%20and%20demand%20curves%20of%20Day-ahead%20market%20including%20bid%20units&realdir=curva_pbc_uof\"\n",
    "\n",
    "# Path where I want to save the file\n",
    "path = \"data/webpage_omie.html\"\n",
    "\n",
    "# GET request to try to access URL data\n",
    "response = requests.get(url_csv)\n",
    "\n",
    "# I make sure the request succeeded\n",
    "if response.status_code == 200:\n",
    "    # ... so I write the data in a local file, in the specified path\n",
    "    with open(path, \"wb\") as f:\n",
    "        f.write(response.content)\n",
    "    print(f\"File saved at {path}\")\n",
    "else:\n",
    "    print(f\"Request error code: {response.status_code}\")\n"
   ]
  },
  {
   "cell_type": "markdown",
   "metadata": {},
   "source": [
    "Now, with the HTML, I need to extract the list containing the URLs of all curves files."
   ]
  },
  {
   "cell_type": "code",
   "execution_count": 24,
   "metadata": {},
   "outputs": [
    {
     "name": "stdout",
     "output_type": "stream",
     "text": [
      "Correspondances trouvées:\n",
      "76 occurences found on the webpage.\n"
     ]
    }
   ],
   "source": [
    "# I read the HTML file\n",
    "with open(path, \"r\", encoding=\"utf-8\") as file:\n",
    "    html_content = file.read()\n",
    "\n",
    "    # Motif avec des caractères génériques avant et après\n",
    "    pattern = r\".*curva_pbc_uof_*.\"\n",
    "\n",
    "    # Recherche des occurrences qui correspondent au motif\n",
    "    matches = re.findall(pattern, html_content)\n",
    "\n",
    "    print(\"Correspondances trouvées:\")\n",
    "    if matches:\n",
    "        print(len(matches), \"occurences found on the webpage.\")\n",
    "    else:\n",
    "        print(\"Aucune correspondance trouvée\")\n",
    "\n",
    "# I download the first file, just for a test\n"
   ]
  },
  {
   "cell_type": "markdown",
   "metadata": {},
   "source": [
    "Now I need to process the matches to extract only the URLs I need."
   ]
  },
  {
   "cell_type": "code",
   "execution_count": null,
   "metadata": {},
   "outputs": [],
   "source": [
    "..."
   ]
  },
  {
   "cell_type": "markdown",
   "metadata": {},
   "source": [
    "Finally, I can download every zip file."
   ]
  },
  {
   "cell_type": "code",
   "execution_count": 28,
   "metadata": {},
   "outputs": [
    {
     "name": "stdout",
     "output_type": "stream",
     "text": [
      "Téléchargement terminé : first_file.zip\n"
     ]
    }
   ],
   "source": [
    "# URL of the file I want to download\n",
    "# url_csv = \"https://www.omie.es/\" + \"/es/file-download?parents%5B0%5D=curva_pbc_uof&amp;filename=curva_pbc_uof_202402.zip\"\n",
    "url_csv = \"https://www.omie.es/en/file-download?parents%5B0%5D=curva_pbc_uof&filename=curva_pbc_uof_202402.zip\" \n",
    "\n",
    "# Nom du fichier à partir du lien\n",
    "file_name = \"first_file.zip\"\n",
    "\n",
    "# Récupérer le contenu du fichier ZIP\n",
    "response = requests.get(url_csv)\n",
    "\n",
    "if response.status_code == 200:\n",
    "    # Sauvegarder le fichier localement\n",
    "    with open(file_name, \"wb\") as f:\n",
    "        for chunk in response.iter_content(chunk_size=8192):  # Télécharger par morceaux\n",
    "            f.write(chunk)\n",
    "    print(f\"Téléchargement terminé : {file_name}\")\n",
    "else:\n",
    "    print(f\"Erreur lors du téléchargement : {response.status_code}\")"
   ]
  }
 ],
 "metadata": {
  "kernelspec": {
   "display_name": "base",
   "language": "python",
   "name": "python3"
  },
  "language_info": {
   "codemirror_mode": {
    "name": "ipython",
    "version": 3
   },
   "file_extension": ".py",
   "mimetype": "text/x-python",
   "name": "python",
   "nbconvert_exporter": "python",
   "pygments_lexer": "ipython3",
   "version": "3.10.4"
  }
 },
 "nbformat": 4,
 "nbformat_minor": 2
}
